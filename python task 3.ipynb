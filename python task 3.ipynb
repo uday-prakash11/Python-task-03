{
 "cells": [
  {
   "cell_type": "markdown",
   "id": "3ee21a34",
   "metadata": {},
   "source": [
    "1. Write a Python program to get the smallest number from a list."
   ]
  },
  {
   "cell_type": "code",
   "execution_count": 5,
   "id": "7e011fb1",
   "metadata": {},
   "outputs": [
    {
     "name": "stdout",
     "output_type": "stream",
     "text": [
      "The smallest number is: 1\n"
     ]
    }
   ],
   "source": [
    "def smallest_number(numbers):\n",
    "    smallest = numbers[0]\n",
    "    for num in numbers:\n",
    "        if num < smallest:\n",
    "            smallest = num\n",
    "    return smallest\n",
    "\n",
    "# example\n",
    "numbers = [5, 3, 8, 1, 6, 2]\n",
    "print(\"The smallest number is:\", smallest_number(numbers))\n"
   ]
  },
  {
   "cell_type": "markdown",
   "id": "2deb8c75",
   "metadata": {},
   "source": [
    "2. Write a Python program to check if a list is empty or not."
   ]
  },
  {
   "cell_type": "code",
   "execution_count": 10,
   "id": "c7366164",
   "metadata": {},
   "outputs": [
    {
     "name": "stdout",
     "output_type": "stream",
     "text": [
      "list1 is empty\n",
      "list2 is not empty\n"
     ]
    }
   ],
   "source": [
    "def is_list_empty(lst):\n",
    "    if not lst:\n",
    "        return True\n",
    "    else:\n",
    "        return False\n",
    "\n",
    "# example \n",
    "list1 = []\n",
    "list2 = [1, 2, 3]\n",
    "\n",
    "if is_list_empty(list1):\n",
    "    print(\"list1 is empty\")\n",
    "else:\n",
    "    print(\"list1 is not empty\")\n",
    "\n",
    "if is_list_empty(list2):\n",
    "    print(\"list2 is empty\")\n",
    "else:\n",
    "    print(\"list2 is not empty\")\n"
   ]
  },
  {
   "cell_type": "markdown",
   "id": "351c3fbb",
   "metadata": {},
   "source": [
    "3. Write a Python function that takes two lists and returns True if they have at least one common member."
   ]
  },
  {
   "cell_type": "code",
   "execution_count": 3,
   "id": "e2281a30",
   "metadata": {},
   "outputs": [
    {
     "name": "stdout",
     "output_type": "stream",
     "text": [
      "The two lists have at least one common member.\n"
     ]
    }
   ],
   "source": [
    "def common_member(list1, list2):\n",
    "    for item1 in list1:\n",
    "        for item2 in list2:\n",
    "            if item1 == item2:\n",
    "                return True\n",
    "    return False\n",
    "\n",
    "# example \n",
    "list1 = [1, 2, 3, 4, 5]\n",
    "list2 = [5, 6, 7, 8, 9]\n",
    "\n",
    "if common_member(list1, list2):\n",
    "    print(\"The two lists have at least one common member.\")\n",
    "else:\n",
    "    print(\"The two lists do not have any common members.\")\n"
   ]
  },
  {
   "cell_type": "markdown",
   "id": "ebb25fac",
   "metadata": {},
   "source": [
    "4. Write a Python program to append a list to the second list."
   ]
  },
  {
   "cell_type": "code",
   "execution_count": 20,
   "id": "a1e8d630",
   "metadata": {},
   "outputs": [
    {
     "name": "stdout",
     "output_type": "stream",
     "text": [
      "The modified list1 is: [1, 2, 3, 4, 5, 6]\n"
     ]
    }
   ],
   "source": [
    "def append_list(list1, list2):\n",
    "    list1.extend(list2)\n",
    "\n",
    "# example \n",
    "list1 = [1, 2, 3]\n",
    "list2 = [4, 5, 6]\n",
    "\n",
    "append_list(list1, list2)\n",
    "print(\"The modified list1 is:\", list1)"
   ]
  },
  {
   "cell_type": "markdown",
   "id": "03d8dfe3",
   "metadata": {},
   "source": [
    "5. Write a Python program to print a specified list after removing the 0th, 4th and 5th elements."
   ]
  },
  {
   "cell_type": "code",
   "execution_count": 1,
   "id": "7da7e6bc",
   "metadata": {},
   "outputs": [
    {
     "name": "stdout",
     "output_type": "stream",
     "text": [
      "The new list is: [1, 2, 3, 6, 7, 8, 9]\n"
     ]
    }
   ],
   "source": [
    "def remove_elements(lst):\n",
    "    indices_to_remove = [0, 4, 5]\n",
    "    indices_to_remove.sort(reverse=True)\n",
    "    \n",
    "    for i in indices_to_remove:\n",
    "        del lst[i]\n",
    "        \n",
    "    return lst\n",
    "\n",
    "# example \n",
    "my_list = [0, 1, 2, 3, 4, 5, 6, 7, 8, 9]\n",
    "\n",
    "new_list = remove_elements(my_list)\n",
    "print(\"The new list is:\", new_list)"
   ]
  },
  {
   "cell_type": "markdown",
   "id": "b5686346",
   "metadata": {},
   "source": [
    "6. Take 10 integer inputs from user and store them in a list. Now, copy all the elements in another list but in reverse order. "
   ]
  },
  {
   "cell_type": "code",
   "execution_count": 2,
   "id": "1ca090ac",
   "metadata": {},
   "outputs": [
    {
     "name": "stdout",
     "output_type": "stream",
     "text": [
      "Enter an integer: 45\n",
      "Enter an integer: 23\n",
      "Enter an integer: 78\n",
      "Enter an integer: 89\n",
      "Enter an integer: 90\n",
      "Enter an integer: 34\n",
      "Enter an integer: 66\n",
      "Enter an integer: 44\n",
      "Enter an integer: 12\n",
      "Enter an integer: 2\n",
      "Original list: [45, 23, 78, 89, 90, 34, 66, 44, 12, 2]\n",
      "New list (in reverse order): [2, 12, 44, 66, 34, 90, 89, 78, 23, 45]\n"
     ]
    }
   ],
   "source": [
    "# take 10 integer inputs from user and store them in a list\n",
    "original_list = []\n",
    "for i in range(10):\n",
    "    num = int(input(\"Enter an integer: \"))\n",
    "    original_list.append(num)\n",
    "\n",
    "# copy the elements to another list in reverse order\n",
    "new_list = original_list[::-1]\n",
    "\n",
    "# print the original and new lists\n",
    "print(\"Original list:\", original_list)\n",
    "print(\"New list (in reverse order):\", new_list)"
   ]
  },
  {
   "cell_type": "code",
   "execution_count": null,
   "id": "15dc8f30",
   "metadata": {},
   "outputs": [],
   "source": []
  }
 ],
 "metadata": {
  "kernelspec": {
   "display_name": "Python 3 (ipykernel)",
   "language": "python",
   "name": "python3"
  },
  "language_info": {
   "codemirror_mode": {
    "name": "ipython",
    "version": 3
   },
   "file_extension": ".py",
   "mimetype": "text/x-python",
   "name": "python",
   "nbconvert_exporter": "python",
   "pygments_lexer": "ipython3",
   "version": "3.9.12"
  }
 },
 "nbformat": 4,
 "nbformat_minor": 5
}
